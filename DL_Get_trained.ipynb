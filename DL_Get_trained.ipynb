{
  "cells": [
    {
      "cell_type": "markdown",
      "metadata": {
        "id": "view-in-github"
      },
      "source": [
        "<a href=\"https://colab.research.google.com/github/Schify/FacExcerciseBook/blob/andras/DL_Get_trained.ipynb\" target=\"_parent\"><img src=\"https://colab.research.google.com/assets/colab-badge.svg\" alt=\"Open In Colab\"/></a>"
      ]
    },
    {
      "cell_type": "code",
      "execution_count": 1,
      "metadata": {
        "colab": {
          "base_uri": "https://localhost:8080/"
        },
        "id": "ssdp6Rri56kK",
        "outputId": "0ef56b85-bbd9-4e93-e3ed-1bce3abe2f91"
      },
      "outputs": [
        {
          "output_type": "stream",
          "name": "stdout",
          "text": [
            "Drive already mounted at /content/gdrive; to attempt to forcibly remount, call drive.mount(\"/content/gdrive\", force_remount=True).\n"
          ]
        }
      ],
      "source": [
        "from google.colab import drive\n",
        "drive.mount('/content/gdrive')"
      ]
    },
    {
      "cell_type": "code",
      "execution_count": 2,
      "metadata": {
        "colab": {
          "base_uri": "https://localhost:8080/"
        },
        "id": "H12UGUCX5XJ7",
        "outputId": "f686399d-152b-42af-ae08-94f4dd4d6301"
      },
      "outputs": [
        {
          "output_type": "stream",
          "name": "stdout",
          "text": [
            "Reading package lists... Done\n",
            "Building dependency tree       \n",
            "Reading state information... Done\n",
            "graphviz is already the newest version (2.40.1-2).\n",
            "0 upgraded, 0 newly installed, 0 to remove and 37 not upgraded.\n",
            "Requirement already satisfied: keras-tuner in /usr/local/lib/python3.7/dist-packages (1.1.0)\n",
            "Requirement already satisfied: scipy in /usr/local/lib/python3.7/dist-packages (from keras-tuner) (1.4.1)\n",
            "Requirement already satisfied: packaging in /usr/local/lib/python3.7/dist-packages (from keras-tuner) (21.3)\n",
            "Requirement already satisfied: numpy in /usr/local/lib/python3.7/dist-packages (from keras-tuner) (1.19.5)\n",
            "Requirement already satisfied: tensorboard in /usr/local/lib/python3.7/dist-packages (from keras-tuner) (2.7.0)\n",
            "Requirement already satisfied: kt-legacy in /usr/local/lib/python3.7/dist-packages (from keras-tuner) (1.0.4)\n",
            "Requirement already satisfied: requests in /usr/local/lib/python3.7/dist-packages (from keras-tuner) (2.23.0)\n",
            "Requirement already satisfied: ipython in /usr/local/lib/python3.7/dist-packages (from keras-tuner) (5.5.0)\n",
            "Requirement already satisfied: traitlets>=4.2 in /usr/local/lib/python3.7/dist-packages (from ipython->keras-tuner) (5.1.1)\n",
            "Requirement already satisfied: decorator in /usr/local/lib/python3.7/dist-packages (from ipython->keras-tuner) (4.4.2)\n",
            "Requirement already satisfied: pexpect in /usr/local/lib/python3.7/dist-packages (from ipython->keras-tuner) (4.8.0)\n",
            "Requirement already satisfied: pygments in /usr/local/lib/python3.7/dist-packages (from ipython->keras-tuner) (2.6.1)\n",
            "Requirement already satisfied: simplegeneric>0.8 in /usr/local/lib/python3.7/dist-packages (from ipython->keras-tuner) (0.8.1)\n",
            "Requirement already satisfied: prompt-toolkit<2.0.0,>=1.0.4 in /usr/local/lib/python3.7/dist-packages (from ipython->keras-tuner) (1.0.18)\n",
            "Requirement already satisfied: setuptools>=18.5 in /usr/local/lib/python3.7/dist-packages (from ipython->keras-tuner) (57.4.0)\n",
            "Requirement already satisfied: pickleshare in /usr/local/lib/python3.7/dist-packages (from ipython->keras-tuner) (0.7.5)\n",
            "Requirement already satisfied: wcwidth in /usr/local/lib/python3.7/dist-packages (from prompt-toolkit<2.0.0,>=1.0.4->ipython->keras-tuner) (0.2.5)\n",
            "Requirement already satisfied: six>=1.9.0 in /usr/local/lib/python3.7/dist-packages (from prompt-toolkit<2.0.0,>=1.0.4->ipython->keras-tuner) (1.15.0)\n",
            "Requirement already satisfied: pyparsing!=3.0.5,>=2.0.2 in /usr/local/lib/python3.7/dist-packages (from packaging->keras-tuner) (3.0.6)\n",
            "Requirement already satisfied: ptyprocess>=0.5 in /usr/local/lib/python3.7/dist-packages (from pexpect->ipython->keras-tuner) (0.7.0)\n",
            "Requirement already satisfied: idna<3,>=2.5 in /usr/local/lib/python3.7/dist-packages (from requests->keras-tuner) (2.10)\n",
            "Requirement already satisfied: certifi>=2017.4.17 in /usr/local/lib/python3.7/dist-packages (from requests->keras-tuner) (2021.10.8)\n",
            "Requirement already satisfied: urllib3!=1.25.0,!=1.25.1,<1.26,>=1.21.1 in /usr/local/lib/python3.7/dist-packages (from requests->keras-tuner) (1.24.3)\n",
            "Requirement already satisfied: chardet<4,>=3.0.2 in /usr/local/lib/python3.7/dist-packages (from requests->keras-tuner) (3.0.4)\n",
            "Requirement already satisfied: werkzeug>=0.11.15 in /usr/local/lib/python3.7/dist-packages (from tensorboard->keras-tuner) (1.0.1)\n",
            "Requirement already satisfied: absl-py>=0.4 in /usr/local/lib/python3.7/dist-packages (from tensorboard->keras-tuner) (0.12.0)\n",
            "Requirement already satisfied: google-auth-oauthlib<0.5,>=0.4.1 in /usr/local/lib/python3.7/dist-packages (from tensorboard->keras-tuner) (0.4.6)\n",
            "Requirement already satisfied: tensorboard-plugin-wit>=1.6.0 in /usr/local/lib/python3.7/dist-packages (from tensorboard->keras-tuner) (1.8.0)\n",
            "Requirement already satisfied: wheel>=0.26 in /usr/local/lib/python3.7/dist-packages (from tensorboard->keras-tuner) (0.37.0)\n",
            "Requirement already satisfied: markdown>=2.6.8 in /usr/local/lib/python3.7/dist-packages (from tensorboard->keras-tuner) (3.3.6)\n",
            "Requirement already satisfied: google-auth<3,>=1.6.3 in /usr/local/lib/python3.7/dist-packages (from tensorboard->keras-tuner) (1.35.0)\n",
            "Requirement already satisfied: protobuf>=3.6.0 in /usr/local/lib/python3.7/dist-packages (from tensorboard->keras-tuner) (3.17.3)\n",
            "Requirement already satisfied: tensorboard-data-server<0.7.0,>=0.6.0 in /usr/local/lib/python3.7/dist-packages (from tensorboard->keras-tuner) (0.6.1)\n",
            "Requirement already satisfied: grpcio>=1.24.3 in /usr/local/lib/python3.7/dist-packages (from tensorboard->keras-tuner) (1.42.0)\n",
            "Requirement already satisfied: pyasn1-modules>=0.2.1 in /usr/local/lib/python3.7/dist-packages (from google-auth<3,>=1.6.3->tensorboard->keras-tuner) (0.2.8)\n",
            "Requirement already satisfied: rsa<5,>=3.1.4 in /usr/local/lib/python3.7/dist-packages (from google-auth<3,>=1.6.3->tensorboard->keras-tuner) (4.8)\n",
            "Requirement already satisfied: cachetools<5.0,>=2.0.0 in /usr/local/lib/python3.7/dist-packages (from google-auth<3,>=1.6.3->tensorboard->keras-tuner) (4.2.4)\n",
            "Requirement already satisfied: requests-oauthlib>=0.7.0 in /usr/local/lib/python3.7/dist-packages (from google-auth-oauthlib<0.5,>=0.4.1->tensorboard->keras-tuner) (1.3.0)\n",
            "Requirement already satisfied: importlib-metadata>=4.4 in /usr/local/lib/python3.7/dist-packages (from markdown>=2.6.8->tensorboard->keras-tuner) (4.8.2)\n",
            "Requirement already satisfied: typing-extensions>=3.6.4 in /usr/local/lib/python3.7/dist-packages (from importlib-metadata>=4.4->markdown>=2.6.8->tensorboard->keras-tuner) (3.10.0.2)\n",
            "Requirement already satisfied: zipp>=0.5 in /usr/local/lib/python3.7/dist-packages (from importlib-metadata>=4.4->markdown>=2.6.8->tensorboard->keras-tuner) (3.6.0)\n",
            "Requirement already satisfied: pyasn1<0.5.0,>=0.4.6 in /usr/local/lib/python3.7/dist-packages (from pyasn1-modules>=0.2.1->google-auth<3,>=1.6.3->tensorboard->keras-tuner) (0.4.8)\n",
            "Requirement already satisfied: oauthlib>=3.0.0 in /usr/local/lib/python3.7/dist-packages (from requests-oauthlib>=0.7.0->google-auth-oauthlib<0.5,>=0.4.1->tensorboard->keras-tuner) (3.1.1)\n"
          ]
        }
      ],
      "source": [
        "#A libary that will help us plot the neural network so we can better visualize it\n",
        "!pip install -q pydot\n",
        "!apt install graphviz\n",
        "!pip install keras-tuner"
      ]
    },
    {
      "cell_type": "code",
      "source": [
        "#!rm -rf output"
      ],
      "metadata": {
        "id": "n3xkavIc850J"
      },
      "execution_count": 23,
      "outputs": []
    },
    {
      "cell_type": "code",
      "execution_count": 3,
      "metadata": {
        "colab": {
          "base_uri": "https://localhost:8080/"
        },
        "id": "vQIBu-gt5nQE",
        "outputId": "a2bd7fa7-80ce-4590-f144-0b40b5233fcc"
      },
      "outputs": [
        {
          "output_type": "stream",
          "name": "stdout",
          "text": [
            "Requirement already satisfied: keras_facenet in /usr/local/lib/python3.7/dist-packages (0.3.2)\n",
            "Requirement already satisfied: mtcnn in /usr/local/lib/python3.7/dist-packages (from keras_facenet) (0.1.1)\n",
            "Requirement already satisfied: opencv-python>=4.1.0 in /usr/local/lib/python3.7/dist-packages (from mtcnn->keras_facenet) (4.1.2.30)\n",
            "Requirement already satisfied: keras>=2.0.0 in /usr/local/lib/python3.7/dist-packages (from mtcnn->keras_facenet) (2.7.0)\n",
            "Requirement already satisfied: numpy>=1.14.5 in /usr/local/lib/python3.7/dist-packages (from opencv-python>=4.1.0->mtcnn->keras_facenet) (1.19.5)\n"
          ]
        },
        {
          "output_type": "stream",
          "name": "stderr",
          "text": [
            "/usr/local/lib/python3.7/dist-packages/ipykernel_launcher.py:26: DeprecationWarning: `import kerastuner` is deprecated, please use `import keras_tuner`.\n"
          ]
        }
      ],
      "source": [
        "#loading all the necessary libraries for the project\n",
        "import numpy as np\n",
        "import matplotlib.pyplot as plt\n",
        "import os, sys\n",
        "import cv2\n",
        "from tqdm.notebook import tqdm #useful module for progress bars\n",
        "import logging\n",
        "import gc\n",
        "from datetime import datetime\n",
        "import pandas as pd\n",
        "from sklearn.preprocessing import OneHotEncoder\n",
        "from keras.preprocessing.image import ImageDataGenerator\n",
        "from skimage import io\n",
        "import tensorflow as tf\n",
        "import numpy as np\n",
        "import tensorflow.keras as keras\n",
        "import matplotlib.pyplot as plt\n",
        "from tqdm.notebook import tqdm as tqdm\n",
        "from datetime import datetime\n",
        "!pip install keras_facenet\n",
        "from tensorflow.keras.utils import CustomObjectScope\n",
        "from tensorflow.keras.models import load_model\n",
        "from keras_facenet import FaceNet\n",
        "import shutil\n",
        "from keras.utils.vis_utils import plot_model\n",
        "from kerastuner.tuners import Hyperband\n",
        "embedder = FaceNet()\n",
        "OHEC =OneHotEncoder()"
      ]
    },
    {
      "cell_type": "code",
      "execution_count": 4,
      "metadata": {
        "id": "_OlFkMUy3KKg"
      },
      "outputs": [],
      "source": [
        "import keras_tuner as kt\n",
        "from tensorflow import keras"
      ]
    },
    {
      "cell_type": "code",
      "source": [
        "!unzip -q gdrive/MyDrive/DL_big_homework/fairface.zip -d /content"
      ],
      "metadata": {
        "colab": {
          "base_uri": "https://localhost:8080/"
        },
        "id": "V49FhKaibGbq",
        "outputId": "5bb848cf-b491-4e23-e794-6e4381e5472c"
      },
      "execution_count": 5,
      "outputs": [
        {
          "output_type": "stream",
          "name": "stdout",
          "text": [
            "replace /content/train/1346.jpg? [y]es, [n]o, [A]ll, [N]one, [r]ename: N\n"
          ]
        }
      ]
    },
    {
      "cell_type": "code",
      "execution_count": 6,
      "metadata": {
        "id": "r5TlPX5j7_s9"
      },
      "outputs": [],
      "source": [
        "#reading the csv file that contains the labels with pandas\n",
        "train_label_raw = pd.read_csv(\"gdrive/MyDrive/DL_big_homework/train.csv\")\n",
        "val_label_raw = pd.read_csv(\"gdrive/MyDrive/DL_big_homework/val.csv\")"
      ]
    },
    {
      "cell_type": "code",
      "execution_count": 7,
      "metadata": {
        "colab": {
          "base_uri": "https://localhost:8080/",
          "height": 206
        },
        "id": "ZU5Da4-X8BAT",
        "outputId": "384df47f-a8a1-4484-9160-52aef3f2519c"
      },
      "outputs": [
        {
          "output_type": "execute_result",
          "data": {
            "text/html": [
              "<div>\n",
              "<style scoped>\n",
              "    .dataframe tbody tr th:only-of-type {\n",
              "        vertical-align: middle;\n",
              "    }\n",
              "\n",
              "    .dataframe tbody tr th {\n",
              "        vertical-align: top;\n",
              "    }\n",
              "\n",
              "    .dataframe thead th {\n",
              "        text-align: right;\n",
              "    }\n",
              "</style>\n",
              "<table border=\"1\" class=\"dataframe\">\n",
              "  <thead>\n",
              "    <tr style=\"text-align: right;\">\n",
              "      <th></th>\n",
              "      <th>file</th>\n",
              "      <th>age</th>\n",
              "      <th>gender</th>\n",
              "      <th>race</th>\n",
              "      <th>service_test</th>\n",
              "    </tr>\n",
              "  </thead>\n",
              "  <tbody>\n",
              "    <tr>\n",
              "      <th>0</th>\n",
              "      <td>train/1.jpg</td>\n",
              "      <td>50-59</td>\n",
              "      <td>Male</td>\n",
              "      <td>East Asian</td>\n",
              "      <td>True</td>\n",
              "    </tr>\n",
              "    <tr>\n",
              "      <th>1</th>\n",
              "      <td>train/2.jpg</td>\n",
              "      <td>30-39</td>\n",
              "      <td>Female</td>\n",
              "      <td>Indian</td>\n",
              "      <td>False</td>\n",
              "    </tr>\n",
              "    <tr>\n",
              "      <th>2</th>\n",
              "      <td>train/3.jpg</td>\n",
              "      <td>3-9</td>\n",
              "      <td>Female</td>\n",
              "      <td>Black</td>\n",
              "      <td>False</td>\n",
              "    </tr>\n",
              "    <tr>\n",
              "      <th>3</th>\n",
              "      <td>train/4.jpg</td>\n",
              "      <td>20-29</td>\n",
              "      <td>Female</td>\n",
              "      <td>Indian</td>\n",
              "      <td>True</td>\n",
              "    </tr>\n",
              "    <tr>\n",
              "      <th>4</th>\n",
              "      <td>train/5.jpg</td>\n",
              "      <td>20-29</td>\n",
              "      <td>Female</td>\n",
              "      <td>Indian</td>\n",
              "      <td>True</td>\n",
              "    </tr>\n",
              "  </tbody>\n",
              "</table>\n",
              "</div>"
            ],
            "text/plain": [
              "          file    age  gender        race  service_test\n",
              "0  train/1.jpg  50-59    Male  East Asian          True\n",
              "1  train/2.jpg  30-39  Female      Indian         False\n",
              "2  train/3.jpg    3-9  Female       Black         False\n",
              "3  train/4.jpg  20-29  Female      Indian          True\n",
              "4  train/5.jpg  20-29  Female      Indian          True"
            ]
          },
          "metadata": {},
          "execution_count": 7
        }
      ],
      "source": [
        "#displaying the training labels\n",
        "train_label_raw.head()"
      ]
    },
    {
      "cell_type": "code",
      "execution_count": 8,
      "metadata": {
        "colab": {
          "base_uri": "https://localhost:8080/",
          "height": 206
        },
        "id": "tHWOc4p08M3s",
        "outputId": "3ac67f6d-d1c2-414a-a0fe-1d5f0d024b7a"
      },
      "outputs": [
        {
          "output_type": "execute_result",
          "data": {
            "text/html": [
              "<div>\n",
              "<style scoped>\n",
              "    .dataframe tbody tr th:only-of-type {\n",
              "        vertical-align: middle;\n",
              "    }\n",
              "\n",
              "    .dataframe tbody tr th {\n",
              "        vertical-align: top;\n",
              "    }\n",
              "\n",
              "    .dataframe thead th {\n",
              "        text-align: right;\n",
              "    }\n",
              "</style>\n",
              "<table border=\"1\" class=\"dataframe\">\n",
              "  <thead>\n",
              "    <tr style=\"text-align: right;\">\n",
              "      <th></th>\n",
              "      <th>file</th>\n",
              "      <th>age</th>\n",
              "      <th>gender</th>\n",
              "      <th>race</th>\n",
              "      <th>service_test</th>\n",
              "    </tr>\n",
              "  </thead>\n",
              "  <tbody>\n",
              "    <tr>\n",
              "      <th>0</th>\n",
              "      <td>val/1.jpg</td>\n",
              "      <td>3-9</td>\n",
              "      <td>Male</td>\n",
              "      <td>East Asian</td>\n",
              "      <td>False</td>\n",
              "    </tr>\n",
              "    <tr>\n",
              "      <th>1</th>\n",
              "      <td>val/2.jpg</td>\n",
              "      <td>50-59</td>\n",
              "      <td>Female</td>\n",
              "      <td>East Asian</td>\n",
              "      <td>True</td>\n",
              "    </tr>\n",
              "    <tr>\n",
              "      <th>2</th>\n",
              "      <td>val/3.jpg</td>\n",
              "      <td>30-39</td>\n",
              "      <td>Male</td>\n",
              "      <td>White</td>\n",
              "      <td>True</td>\n",
              "    </tr>\n",
              "    <tr>\n",
              "      <th>3</th>\n",
              "      <td>val/4.jpg</td>\n",
              "      <td>20-29</td>\n",
              "      <td>Female</td>\n",
              "      <td>Latino_Hispanic</td>\n",
              "      <td>True</td>\n",
              "    </tr>\n",
              "    <tr>\n",
              "      <th>4</th>\n",
              "      <td>val/5.jpg</td>\n",
              "      <td>20-29</td>\n",
              "      <td>Male</td>\n",
              "      <td>Southeast Asian</td>\n",
              "      <td>False</td>\n",
              "    </tr>\n",
              "  </tbody>\n",
              "</table>\n",
              "</div>"
            ],
            "text/plain": [
              "        file    age  gender             race  service_test\n",
              "0  val/1.jpg    3-9    Male       East Asian         False\n",
              "1  val/2.jpg  50-59  Female       East Asian          True\n",
              "2  val/3.jpg  30-39    Male            White          True\n",
              "3  val/4.jpg  20-29  Female  Latino_Hispanic          True\n",
              "4  val/5.jpg  20-29    Male  Southeast Asian         False"
            ]
          },
          "metadata": {},
          "execution_count": 8
        }
      ],
      "source": [
        "#dispalying the validation labels\n",
        "val_label_raw.head()"
      ]
    },
    {
      "cell_type": "code",
      "execution_count": 9,
      "metadata": {
        "id": "89xounle75rU"
      },
      "outputs": [],
      "source": [
        "#Here we used sklearn in order to onehotencode our data thus preparing it for the CNN network\n",
        "OHEC =OneHotEncoder()\n",
        "\"\"\"\n",
        "OHEC.fit(X=[[\"0-2\", \"Male\", \"Black\", \"False\"],[\"3-9\", \"Female\", \"Indian\", \"True\"],\n",
        "[\"10-19\", \"Male\", \"East Asian\", \"False\"],[\"20-29\", \"Male\", \"Southeast Asian\", \"False\"],\n",
        "[\"30-39\", \"Male\", \"Latino_Hispanic\", \"False\"],[\"40-49\", \"Male\", \"Middle Eastern\", \"False\"],[\"50-59\", \"Male\", \"White\", \"False\"],\n",
        "[\"60-69\", \"Male\", \"Middel Eastern\", \"False\"],[\"more than 70\", \"Male\", \"White\", \"False\"]])\n",
        "\"\"\"\n",
        "#The one hot encoder arranges the inputs in alphabetic order\n",
        "OHEC.fit(val_label_raw[[\"age\", \"gender\", \"race\", \"service_test\"]])\n",
        "val_label = OHEC.transform(val_label_raw[[\"age\", \"gender\", \"race\", \"service_test\"]]).toarray()\n",
        "train_label = OHEC.transform(train_label_raw[[\"age\", \"gender\", \"race\", \"service_test\"]]).toarray()\n",
        "#We are putting thes together inside this npz dataformat\n",
        "np.savez(\"labels.npz\", train=train_label, val=val_label)"
      ]
    },
    {
      "cell_type": "code",
      "execution_count": 9,
      "metadata": {
        "id": "sB1JjcJI796g"
      },
      "outputs": [],
      "source": [
        ""
      ]
    },
    {
      "cell_type": "code",
      "execution_count": 10,
      "metadata": {
        "id": "modS24Cx6ZZa"
      },
      "outputs": [],
      "source": [
        "#loading the labels from the drive\n",
        "labels=np.load(\"labels.npz\")"
      ]
    },
    {
      "cell_type": "code",
      "execution_count": 11,
      "metadata": {
        "colab": {
          "base_uri": "https://localhost:8080/"
        },
        "id": "wLeSdgWT5u1v",
        "outputId": "c85a1abc-b734-4897-c949-632978e10939"
      },
      "outputs": [
        {
          "output_type": "stream",
          "name": "stdout",
          "text": [
            "(13011, 20)\n"
          ]
        }
      ],
      "source": [
        "#loading the embeddings from the drive\n",
        "train_embeddings = np.load(\"gdrive/MyDrive/DL_big_homework/train_embedding2.npz\")[\"train\"]\n",
        "train_labels = np.load(\"gdrive/MyDrive/DL_big_homework/labels.npz\")[\"train\"][0:train_embeddings.shape[0]]\n",
        "print(train_labels.shape)"
      ]
    },
    {
      "cell_type": "code",
      "execution_count": 12,
      "metadata": {
        "colab": {
          "base_uri": "https://localhost:8080/"
        },
        "id": "5hootAUg6Gu5",
        "outputId": "5bf2d4d6-0710-4455-8d90-4ba8cca855c2"
      },
      "outputs": [
        {
          "output_type": "stream",
          "name": "stdout",
          "text": [
            "(547, 20)\n"
          ]
        }
      ],
      "source": [
        "valid_embeddings = np.load(\"gdrive/MyDrive/DL_big_homework/val_embedding.npz\")[\"val\"]\n",
        "valid_labels = np.load(\"gdrive/MyDrive/DL_big_homework/labels.npz\")[\"val\"][0:valid_embeddings.shape[0]]\n",
        "print(valid_labels.shape)"
      ]
    },
    {
      "cell_type": "code",
      "execution_count": 13,
      "metadata": {
        "colab": {
          "base_uri": "https://localhost:8080/"
        },
        "id": "bRlykekj9cYo",
        "outputId": "5ad67dcc-a422-439b-afff-a3d2a7eeaa4c"
      },
      "outputs": [
        {
          "output_type": "stream",
          "name": "stdout",
          "text": [
            "(54, 20)\n"
          ]
        }
      ],
      "source": [
        "test_embeddings = np.load(\"gdrive/MyDrive/DL_big_homework/test_embedding.npz\")[\"val\"]\n",
        "test_labels = np.load(\"gdrive/MyDrive/DL_big_homework/labels.npz\")[\"val\"][0:test_embeddings.shape[0]]\n",
        "print(test_labels.shape)"
      ]
    },
    {
      "cell_type": "code",
      "execution_count": 24,
      "metadata": {
        "id": "Oq28Fjf2QyZn"
      },
      "outputs": [],
      "source": [
        "class MulticatLoss(keras.losses.Loss):\n",
        "        def __init__(self):\n",
        "            super(MulticatLoss, self).__init__()\n",
        "            self.cce = keras.losses.CategoricalCrossentropy()\n",
        "\n",
        "        def call(self, y_true, y_pred):\n",
        "            return self.cce(y_true[...,0:9], y_pred[...,0:9])+\\\n",
        "                   self.cce(y_true[...,9:11],y_pred[...,9:11])+\\\n",
        "                   self.cce(y_true[...,11:18],y_pred[...,11:18])+\\\n",
        "                   self.cce(y_true[...,18:20], y_pred[...,18:20])"
      ]
    },
    {
      "cell_type": "code",
      "source": [
        "class MulticatMetric(tf.keras.metrics.Metric):\n",
        "\n",
        "  def __init__(self, name='category_accuracy', **kwargs):\n",
        "    super(MulticatMetric, self).__init__(name=name, **kwargs)\n",
        "    self.accs = [tf.keras.metrics.CategoricalAccuracy() for i in range(4)]\n",
        "    self.results = 0\n",
        "    self.limits = [0,9,11,18,20]\n",
        "\n",
        "  def update_state(self, y_true, y_pred, sample_weight=None):\n",
        "    for i, acc in enumerate(self.accs): #this is not optimal\n",
        "      acc.reset_state()\n",
        "      acc.update_state(y_true[...,self.limits[i]:self.limits[i+1]], y_pred[...,self.limits[i]:self.limits[i+1]])\n",
        "\n",
        "  def result(self):\n",
        "    return self.accs[0].result()+\\\n",
        "           self.accs[1].result()+\\\n",
        "           self.accs[2].result()+\\\n",
        "           self.accs[3].result()\n",
        "\n",
        "    #loops are bad unfortunately\n",
        "outMetric = MulticatMetric(name=\"category_accuracy\")"
      ],
      "metadata": {
        "id": "WtCJUMY4ANyB"
      },
      "execution_count": 25,
      "outputs": []
    },
    {
      "cell_type": "code",
      "source": [
        "outMetric.update_state(np.array([[0,1,0,0,0,0,0,0,0, 1,0, 0,1,0,0,0,0,0, 0,1],\n",
        "                        [0,1,0,0,0,0,0,0,0, 0,1, 0,0,1,0,0,0,0, 0,1]]),\n",
        "                        np.array([[0,0.7,0.4,0,0,0,0,0,0, 0.7,0.6, 0.8,0.2,0,0,0,0,0, 1,0],\n",
        "                         [0,0.7,0.4,0,0,0,0,0,0, 0.7,0.6, 0.8,0.2,0,0,0,0,0, 1,0]]))\n",
        "tens1 = outMetric.result()\n",
        "outMetric.update_state(np.array([[0,1,0,0,0,0,0,0,0, 1,0, 0,1,0,0,0,0,0, 0,1],\n",
        "                        [0,0,1,0,0,0,0,0,0, 1,0, 0,0,1,0,0,0,0, 0,1]]),\n",
        "                        np.array([[0,0.8,0.4,0,0,0,0,0,0, 0.7,0.6, 0.8,0.2,0,0,0,0,0, 1,0],\n",
        "                         [0,0.7,0.8,0,0,0,0,0,0, 0.7,0.6, 0.8,0.2,0,0,0,0,0, 1,0]]))\n",
        "tens2 = outMetric.result()\n",
        "print(tens1)\n",
        "print(tens2)\n",
        "print(tens1+tens2)"
      ],
      "metadata": {
        "colab": {
          "base_uri": "https://localhost:8080/"
        },
        "id": "dVLO4qVsP9uq",
        "outputId": "1fdc7647-7dd9-46aa-a6d7-6316f0dd0279"
      },
      "execution_count": 26,
      "outputs": [
        {
          "output_type": "stream",
          "name": "stdout",
          "text": [
            "tf.Tensor(1.5, shape=(), dtype=float32)\n",
            "tf.Tensor(2.0, shape=(), dtype=float32)\n",
            "tf.Tensor(3.5, shape=(), dtype=float32)\n"
          ]
        }
      ]
    },
    {
      "cell_type": "code",
      "execution_count": 28,
      "metadata": {
        "id": "gl0fJ2Vz6mjc"
      },
      "outputs": [],
      "source": [
        "\n",
        "\n",
        "callback = tf.keras.callbacks.EarlyStopping(monitor='val_category_accuracy', patience=20)\n",
        "#creating the neural network\n",
        "def build_model(hp):\n",
        "  inputs = keras.Input(shape=(train_embeddings.shape[1],))\n",
        "  \n",
        "\n",
        "  hp_activation=hp.Choice('activation', values=[\"relu\",\"sigmoid\"])\n",
        "  x = keras.layers.Dense(units=hp.Int('units1', min_value=32, max_value=512, step=16), activation=hp.Choice('activation', values=[\"relu\",\"sigmoid\"]))(inputs)\n",
        "  dp_rate=0.1+hp.Choice('rate1', values=[0.1,0.3,0.4])\n",
        "  dp_rate2=0.1+hp.Choice('rate2', values=[0.1,0.3,0.4])\n",
        "  x = keras.layers.Dropout(rate=dp_rate)(x)\n",
        "\n",
        "  x = keras.layers.Dense(units=hp.Int('units2', min_value=32, max_value=512, step=16), activation=hp.Choice('activation', values=[\"relu\",\"sigmoid\"]))(x)\n",
        "  x = keras.layers.Dropout(rate=dp_rate2)(x)\n",
        "\n",
        "  x = keras.layers.Dense(units=hp.Int('units3', min_value=32, max_value=512, step=16), activation=hp.Choice('activation', values=[\"relu\",\"sigmoid\"]),)(x)\n",
        "  x = keras.layers.BatchNormalization()(x)\n",
        "  x = keras.layers.Dense(units=hp.Int('units4', min_value=32, max_value=512, step=16), activation=hp.Choice('activation', values=[\"relu\",\"sigmoid\"]),)(x)\n",
        "  x = keras.layers.BatchNormalization()(x)\n",
        "  #each category needs to have its own softmax activation layer \n",
        "  xs = [keras.layers.Dense(values.shape[0], activation=\"softmax\")(x) for values in OHEC.categories_]#separate categories\n",
        "  outputs = tf.keras.layers.Concatenate()(xs)\n",
        "\n",
        "  hp_learning_rate = hp.Choice('learning_rate', values=[1e-2, 1e-3, 1e-4])\n",
        "  model = keras.Model(inputs = inputs, outputs = outputs, name=\"OpenFace_extension\")\n",
        "  model.compile(\n",
        "    loss=MulticatLoss(),#every bit needs to converge, maybe weighting is also needed\n",
        "    optimizer=keras.optimizers.Adam(learning_rate=hp_learning_rate),\n",
        "    metrics=[outMetric,\"binary_accuracy\"])#every bit has to be looked at separately\n",
        "  return model\n",
        "\n"
      ]
    },
    {
      "cell_type": "code",
      "execution_count": 29,
      "metadata": {
        "id": "VATiH-ct2S7x"
      },
      "outputs": [],
      "source": [
        "\n",
        "\n",
        "tuner = Hyperband(\n",
        "    build_model,\n",
        "    kt.Objective(\"val_category_accuracy\", direction=\"max\"),\n",
        "    factor=10,\n",
        "    max_epochs=100,\n",
        "    directory='output',\n",
        "    project_name='big_homework')"
      ]
    },
    {
      "cell_type": "code",
      "execution_count": 30,
      "metadata": {
        "colab": {
          "base_uri": "https://localhost:8080/"
        },
        "id": "XyvGustr7DwZ",
        "outputId": "eea258e5-7c46-4687-c676-0219101d26ac"
      },
      "outputs": [
        {
          "output_type": "stream",
          "name": "stdout",
          "text": [
            "Search space summary\n",
            "Default search space size: 8\n",
            "activation (Choice)\n",
            "{'default': 'relu', 'conditions': [], 'values': ['relu', 'sigmoid'], 'ordered': False}\n",
            "units1 (Int)\n",
            "{'default': None, 'conditions': [], 'min_value': 32, 'max_value': 512, 'step': 16, 'sampling': None}\n",
            "rate1 (Choice)\n",
            "{'default': 0.1, 'conditions': [], 'values': [0.1, 0.3, 0.4], 'ordered': True}\n",
            "rate2 (Choice)\n",
            "{'default': 0.1, 'conditions': [], 'values': [0.1, 0.3, 0.4], 'ordered': True}\n",
            "units2 (Int)\n",
            "{'default': None, 'conditions': [], 'min_value': 32, 'max_value': 512, 'step': 16, 'sampling': None}\n",
            "units3 (Int)\n",
            "{'default': None, 'conditions': [], 'min_value': 32, 'max_value': 512, 'step': 16, 'sampling': None}\n",
            "units4 (Int)\n",
            "{'default': None, 'conditions': [], 'min_value': 32, 'max_value': 512, 'step': 16, 'sampling': None}\n",
            "learning_rate (Choice)\n",
            "{'default': 0.01, 'conditions': [], 'values': [0.01, 0.001, 0.0001], 'ordered': True}\n"
          ]
        }
      ],
      "source": [
        "#printing the searching space\n",
        "tuner.search_space_summary()"
      ]
    },
    {
      "cell_type": "code",
      "execution_count": 31,
      "metadata": {
        "colab": {
          "base_uri": "https://localhost:8080/"
        },
        "id": "NxklcGB07Vxy",
        "outputId": "2a7d39f1-aebc-4583-db65-853bfb7f5529"
      },
      "outputs": [
        {
          "output_type": "stream",
          "name": "stdout",
          "text": [
            "Trial 131 Complete [00h 02m 09s]\n",
            "val_category_accuracy: 1.6818182468414307\n",
            "\n",
            "Best val_category_accuracy So Far: 2.0\n",
            "Total elapsed time: 00h 43m 01s\n",
            "INFO:tensorflow:Oracle triggered exit\n"
          ]
        }
      ],
      "source": [
        "tuner.search(train_embeddings,train_labels, validation_split=0.1 ,batch_size = 32,epochs=100, callbacks=[callback])"
      ]
    },
    {
      "cell_type": "code",
      "execution_count": 32,
      "metadata": {
        "colab": {
          "base_uri": "https://localhost:8080/"
        },
        "id": "Bm7iJ_as8hIY",
        "outputId": "90e91bb9-6a7e-45b4-d85e-96cbef6be058"
      },
      "outputs": [
        {
          "output_type": "stream",
          "name": "stdout",
          "text": [
            "Model: \"OpenFace_extension\"\n",
            "__________________________________________________________________________________________________\n",
            " Layer (type)                   Output Shape         Param #     Connected to                     \n",
            "==================================================================================================\n",
            " input_1 (InputLayer)           [(None, 512)]        0           []                               \n",
            "                                                                                                  \n",
            " dense (Dense)                  (None, 288)          147744      ['input_1[0][0]']                \n",
            "                                                                                                  \n",
            " dropout (Dropout)              (None, 288)          0           ['dense[0][0]']                  \n",
            "                                                                                                  \n",
            " dense_1 (Dense)                (None, 128)          36992       ['dropout[0][0]']                \n",
            "                                                                                                  \n",
            " dropout_1 (Dropout)            (None, 128)          0           ['dense_1[0][0]']                \n",
            "                                                                                                  \n",
            " dense_2 (Dense)                (None, 128)          16512       ['dropout_1[0][0]']              \n",
            "                                                                                                  \n",
            " batch_normalization (BatchNorm  (None, 128)         512         ['dense_2[0][0]']                \n",
            " alization)                                                                                       \n",
            "                                                                                                  \n",
            " dense_3 (Dense)                (None, 336)          43344       ['batch_normalization[0][0]']    \n",
            "                                                                                                  \n",
            " batch_normalization_1 (BatchNo  (None, 336)         1344        ['dense_3[0][0]']                \n",
            " rmalization)                                                                                     \n",
            "                                                                                                  \n",
            " dense_4 (Dense)                (None, 9)            3033        ['batch_normalization_1[0][0]']  \n",
            "                                                                                                  \n",
            " dense_5 (Dense)                (None, 2)            674         ['batch_normalization_1[0][0]']  \n",
            "                                                                                                  \n",
            " dense_6 (Dense)                (None, 7)            2359        ['batch_normalization_1[0][0]']  \n",
            "                                                                                                  \n",
            " dense_7 (Dense)                (None, 2)            674         ['batch_normalization_1[0][0]']  \n",
            "                                                                                                  \n",
            " concatenate (Concatenate)      (None, 20)           0           ['dense_4[0][0]',                \n",
            "                                                                  'dense_5[0][0]',                \n",
            "                                                                  'dense_6[0][0]',                \n",
            "                                                                  'dense_7[0][0]']                \n",
            "                                                                                                  \n",
            "==================================================================================================\n",
            "Total params: 253,188\n",
            "Trainable params: 252,260\n",
            "Non-trainable params: 928\n",
            "__________________________________________________________________________________________________\n"
          ]
        }
      ],
      "source": [
        "best_model = tuner.get_best_models(num_models=1)[0]\n",
        "best_model.summary()"
      ]
    },
    {
      "cell_type": "code",
      "execution_count": 33,
      "metadata": {
        "id": "uukKoQPlBRwe",
        "colab": {
          "base_uri": "https://localhost:8080/"
        },
        "outputId": "a8728b4b-d61f-4021-bc29-8ef2b90da6a0"
      },
      "outputs": [
        {
          "output_type": "stream",
          "name": "stdout",
          "text": [
            "Epoch 1/100\n",
            "326/326 [==============================] - 5s 9ms/step - loss: 5.1618 - category_accuracy: 1.7500 - binary_accuracy: 0.8069 - val_loss: 5.1677 - val_category_accuracy: 1.5455 - val_binary_accuracy: 0.8073\n",
            "Epoch 2/100\n",
            "326/326 [==============================] - 3s 8ms/step - loss: 5.1587 - category_accuracy: 1.1250 - binary_accuracy: 0.8065 - val_loss: 5.1720 - val_category_accuracy: 1.6364 - val_binary_accuracy: 0.8072\n",
            "Epoch 3/100\n",
            "326/326 [==============================] - 3s 8ms/step - loss: 5.1583 - category_accuracy: 1.6250 - binary_accuracy: 0.8075 - val_loss: 5.1721 - val_category_accuracy: 1.4545 - val_binary_accuracy: 0.8085\n",
            "Epoch 4/100\n",
            "326/326 [==============================] - 3s 8ms/step - loss: 5.1543 - category_accuracy: 1.7500 - binary_accuracy: 0.8072 - val_loss: 5.1809 - val_category_accuracy: 1.7273 - val_binary_accuracy: 0.8059\n",
            "Epoch 5/100\n",
            "326/326 [==============================] - 3s 8ms/step - loss: 5.1484 - category_accuracy: 1.2500 - binary_accuracy: 0.8077 - val_loss: 5.1701 - val_category_accuracy: 1.5455 - val_binary_accuracy: 0.8072\n",
            "Epoch 6/100\n",
            "326/326 [==============================] - 3s 8ms/step - loss: 5.1448 - category_accuracy: 1.8750 - binary_accuracy: 0.8082 - val_loss: 5.1781 - val_category_accuracy: 1.5455 - val_binary_accuracy: 0.8014\n",
            "Epoch 7/100\n",
            "326/326 [==============================] - 3s 8ms/step - loss: 5.1407 - category_accuracy: 1.6250 - binary_accuracy: 0.8079 - val_loss: 5.1764 - val_category_accuracy: 1.6364 - val_binary_accuracy: 0.8085\n",
            "Epoch 8/100\n",
            "326/326 [==============================] - 3s 8ms/step - loss: 5.1389 - category_accuracy: 1.1250 - binary_accuracy: 0.8085 - val_loss: 5.1803 - val_category_accuracy: 1.5455 - val_binary_accuracy: 0.8072\n",
            "Epoch 9/100\n",
            "326/326 [==============================] - 3s 8ms/step - loss: 5.1339 - category_accuracy: 1.5000 - binary_accuracy: 0.8091 - val_loss: 5.1756 - val_category_accuracy: 1.8182 - val_binary_accuracy: 0.8055\n",
            "Epoch 10/100\n",
            "326/326 [==============================] - 2s 8ms/step - loss: 5.1338 - category_accuracy: 1.2500 - binary_accuracy: 0.8088 - val_loss: 5.1741 - val_category_accuracy: 1.9091 - val_binary_accuracy: 0.8066\n",
            "Epoch 11/100\n",
            "326/326 [==============================] - 3s 8ms/step - loss: 5.1278 - category_accuracy: 1.6250 - binary_accuracy: 0.8099 - val_loss: 5.1787 - val_category_accuracy: 1.5455 - val_binary_accuracy: 0.8061\n",
            "Epoch 12/100\n",
            "326/326 [==============================] - 3s 8ms/step - loss: 5.1264 - category_accuracy: 1.0000 - binary_accuracy: 0.8087 - val_loss: 5.1835 - val_category_accuracy: 1.9091 - val_binary_accuracy: 0.8037\n",
            "Epoch 13/100\n",
            "326/326 [==============================] - 3s 8ms/step - loss: 5.1181 - category_accuracy: 1.2500 - binary_accuracy: 0.8101 - val_loss: 5.1842 - val_category_accuracy: 1.7273 - val_binary_accuracy: 0.8077\n",
            "Epoch 14/100\n",
            "326/326 [==============================] - 3s 8ms/step - loss: 5.1180 - category_accuracy: 2.0000 - binary_accuracy: 0.8101 - val_loss: 5.1816 - val_category_accuracy: 1.6364 - val_binary_accuracy: 0.8058\n",
            "Epoch 15/100\n",
            "326/326 [==============================] - 3s 8ms/step - loss: 5.1157 - category_accuracy: 1.1250 - binary_accuracy: 0.8099 - val_loss: 5.1831 - val_category_accuracy: 1.6364 - val_binary_accuracy: 0.8064\n",
            "Epoch 16/100\n",
            "326/326 [==============================] - 3s 8ms/step - loss: 5.1066 - category_accuracy: 0.8750 - binary_accuracy: 0.8098 - val_loss: 5.1837 - val_category_accuracy: 2.0000 - val_binary_accuracy: 0.8059\n",
            "Epoch 17/100\n",
            "326/326 [==============================] - 3s 8ms/step - loss: 5.1043 - category_accuracy: 1.8750 - binary_accuracy: 0.8099 - val_loss: 5.1894 - val_category_accuracy: 1.9091 - val_binary_accuracy: 0.8054\n",
            "Epoch 18/100\n",
            "326/326 [==============================] - 3s 8ms/step - loss: 5.0995 - category_accuracy: 2.2500 - binary_accuracy: 0.8107 - val_loss: 5.1890 - val_category_accuracy: 1.6364 - val_binary_accuracy: 0.8056\n",
            "Epoch 19/100\n",
            "326/326 [==============================] - 3s 8ms/step - loss: 5.1042 - category_accuracy: 1.6250 - binary_accuracy: 0.8100 - val_loss: 5.1852 - val_category_accuracy: 1.6364 - val_binary_accuracy: 0.8072\n",
            "Epoch 20/100\n",
            "326/326 [==============================] - 3s 8ms/step - loss: 5.0975 - category_accuracy: 1.5000 - binary_accuracy: 0.8107 - val_loss: 5.1910 - val_category_accuracy: 1.7273 - val_binary_accuracy: 0.8058\n",
            "Epoch 21/100\n",
            "326/326 [==============================] - 3s 8ms/step - loss: 5.0891 - category_accuracy: 1.5000 - binary_accuracy: 0.8110 - val_loss: 5.1936 - val_category_accuracy: 1.8182 - val_binary_accuracy: 0.8041\n",
            "Epoch 22/100\n",
            "326/326 [==============================] - 3s 8ms/step - loss: 5.0869 - category_accuracy: 1.0000 - binary_accuracy: 0.8122 - val_loss: 5.1939 - val_category_accuracy: 1.6364 - val_binary_accuracy: 0.8061\n",
            "Epoch 23/100\n",
            "326/326 [==============================] - 3s 8ms/step - loss: 5.0838 - category_accuracy: 2.0000 - binary_accuracy: 0.8115 - val_loss: 5.1994 - val_category_accuracy: 1.6364 - val_binary_accuracy: 0.8065\n",
            "Epoch 24/100\n",
            "326/326 [==============================] - 3s 8ms/step - loss: 5.0814 - category_accuracy: 1.6250 - binary_accuracy: 0.8115 - val_loss: 5.1954 - val_category_accuracy: 1.6364 - val_binary_accuracy: 0.8063\n",
            "Epoch 25/100\n",
            "326/326 [==============================] - 3s 8ms/step - loss: 5.0774 - category_accuracy: 1.7500 - binary_accuracy: 0.8111 - val_loss: 5.1969 - val_category_accuracy: 1.8182 - val_binary_accuracy: 0.8043\n",
            "Epoch 26/100\n",
            "326/326 [==============================] - 3s 8ms/step - loss: 5.0689 - category_accuracy: 1.0000 - binary_accuracy: 0.8119 - val_loss: 5.1933 - val_category_accuracy: 1.7273 - val_binary_accuracy: 0.8068\n",
            "Epoch 27/100\n",
            "326/326 [==============================] - 3s 8ms/step - loss: 5.0617 - category_accuracy: 1.6250 - binary_accuracy: 0.8124 - val_loss: 5.2055 - val_category_accuracy: 1.5455 - val_binary_accuracy: 0.8065\n",
            "Epoch 28/100\n",
            "326/326 [==============================] - 3s 8ms/step - loss: 5.0669 - category_accuracy: 1.5000 - binary_accuracy: 0.8138 - val_loss: 5.2082 - val_category_accuracy: 2.0000 - val_binary_accuracy: 0.8014\n",
            "Epoch 29/100\n",
            "326/326 [==============================] - 3s 8ms/step - loss: 5.0601 - category_accuracy: 1.3750 - binary_accuracy: 0.8122 - val_loss: 5.2013 - val_category_accuracy: 1.9091 - val_binary_accuracy: 0.8027\n",
            "Epoch 30/100\n",
            "326/326 [==============================] - 2s 8ms/step - loss: 5.0600 - category_accuracy: 2.0000 - binary_accuracy: 0.8111 - val_loss: 5.2048 - val_category_accuracy: 1.9091 - val_binary_accuracy: 0.8048\n",
            "Epoch 31/100\n",
            "326/326 [==============================] - 3s 8ms/step - loss: 5.0510 - category_accuracy: 1.7500 - binary_accuracy: 0.8137 - val_loss: 5.2068 - val_category_accuracy: 1.8182 - val_binary_accuracy: 0.8059\n",
            "Epoch 32/100\n",
            "326/326 [==============================] - 3s 8ms/step - loss: 5.0486 - category_accuracy: 1.3750 - binary_accuracy: 0.8129 - val_loss: 5.2147 - val_category_accuracy: 2.0000 - val_binary_accuracy: 0.8024\n",
            "Epoch 33/100\n",
            "326/326 [==============================] - 3s 8ms/step - loss: 5.0391 - category_accuracy: 1.6250 - binary_accuracy: 0.8132 - val_loss: 5.2120 - val_category_accuracy: 1.8182 - val_binary_accuracy: 0.8056\n",
            "Epoch 34/100\n",
            "326/326 [==============================] - 3s 8ms/step - loss: 5.0515 - category_accuracy: 1.6250 - binary_accuracy: 0.8125 - val_loss: 5.2046 - val_category_accuracy: 1.7273 - val_binary_accuracy: 0.8059\n",
            "Epoch 35/100\n",
            "326/326 [==============================] - 3s 8ms/step - loss: 5.0347 - category_accuracy: 1.0000 - binary_accuracy: 0.8126 - val_loss: 5.2095 - val_category_accuracy: 1.8182 - val_binary_accuracy: 0.8054\n",
            "Epoch 36/100\n",
            "326/326 [==============================] - 3s 8ms/step - loss: 5.0425 - category_accuracy: 1.7500 - binary_accuracy: 0.8136 - val_loss: 5.2142 - val_category_accuracy: 2.0909 - val_binary_accuracy: 0.8047\n",
            "Epoch 37/100\n",
            "326/326 [==============================] - 3s 8ms/step - loss: 5.0330 - category_accuracy: 1.7500 - binary_accuracy: 0.8133 - val_loss: 5.2097 - val_category_accuracy: 1.4545 - val_binary_accuracy: 0.8064\n",
            "Epoch 38/100\n",
            "326/326 [==============================] - 3s 8ms/step - loss: 5.0327 - category_accuracy: 1.6250 - binary_accuracy: 0.8147 - val_loss: 5.2176 - val_category_accuracy: 1.9091 - val_binary_accuracy: 0.8032\n",
            "Epoch 39/100\n",
            "326/326 [==============================] - 3s 8ms/step - loss: 5.0231 - category_accuracy: 1.6250 - binary_accuracy: 0.8135 - val_loss: 5.2205 - val_category_accuracy: 1.8182 - val_binary_accuracy: 0.8044\n",
            "Epoch 40/100\n",
            "326/326 [==============================] - 3s 8ms/step - loss: 5.0174 - category_accuracy: 1.5000 - binary_accuracy: 0.8142 - val_loss: 5.2218 - val_category_accuracy: 1.7273 - val_binary_accuracy: 0.8057\n",
            "Epoch 41/100\n",
            "326/326 [==============================] - 3s 8ms/step - loss: 5.0243 - category_accuracy: 2.0000 - binary_accuracy: 0.8140 - val_loss: 5.2239 - val_category_accuracy: 1.5455 - val_binary_accuracy: 0.8048\n",
            "Epoch 42/100\n",
            "326/326 [==============================] - 3s 8ms/step - loss: 5.0112 - category_accuracy: 2.0000 - binary_accuracy: 0.8145 - val_loss: 5.2248 - val_category_accuracy: 1.6364 - val_binary_accuracy: 0.8029\n",
            "Epoch 43/100\n",
            "326/326 [==============================] - 3s 8ms/step - loss: 5.0100 - category_accuracy: 1.7500 - binary_accuracy: 0.8141 - val_loss: 5.2356 - val_category_accuracy: 1.9091 - val_binary_accuracy: 0.8030\n",
            "Epoch 44/100\n",
            "326/326 [==============================] - 3s 8ms/step - loss: 4.9976 - category_accuracy: 2.3750 - binary_accuracy: 0.8140 - val_loss: 5.2311 - val_category_accuracy: 1.6364 - val_binary_accuracy: 0.8030\n",
            "Epoch 45/100\n",
            "326/326 [==============================] - 3s 8ms/step - loss: 5.0059 - category_accuracy: 1.6250 - binary_accuracy: 0.8139 - val_loss: 5.2269 - val_category_accuracy: 2.0909 - val_binary_accuracy: 0.8037\n",
            "Epoch 46/100\n",
            "326/326 [==============================] - 3s 8ms/step - loss: 4.9939 - category_accuracy: 1.6250 - binary_accuracy: 0.8153 - val_loss: 5.2294 - val_category_accuracy: 1.7273 - val_binary_accuracy: 0.8050\n",
            "Epoch 47/100\n",
            "326/326 [==============================] - 3s 8ms/step - loss: 5.0022 - category_accuracy: 1.3750 - binary_accuracy: 0.8142 - val_loss: 5.2273 - val_category_accuracy: 1.7273 - val_binary_accuracy: 0.8032\n",
            "Epoch 48/100\n",
            "326/326 [==============================] - 3s 8ms/step - loss: 4.9896 - category_accuracy: 2.3750 - binary_accuracy: 0.8157 - val_loss: 5.2244 - val_category_accuracy: 1.9091 - val_binary_accuracy: 0.8045\n",
            "Epoch 49/100\n",
            "326/326 [==============================] - 3s 8ms/step - loss: 4.9893 - category_accuracy: 1.8750 - binary_accuracy: 0.8157 - val_loss: 5.2272 - val_category_accuracy: 1.7273 - val_binary_accuracy: 0.8047\n",
            "Epoch 50/100\n",
            "326/326 [==============================] - 3s 8ms/step - loss: 4.9938 - category_accuracy: 1.7500 - binary_accuracy: 0.8147 - val_loss: 5.2428 - val_category_accuracy: 1.6364 - val_binary_accuracy: 0.8026\n",
            "Epoch 51/100\n",
            "326/326 [==============================] - 3s 8ms/step - loss: 4.9858 - category_accuracy: 2.5000 - binary_accuracy: 0.8147 - val_loss: 5.2317 - val_category_accuracy: 1.8182 - val_binary_accuracy: 0.8043\n",
            "Epoch 52/100\n",
            "326/326 [==============================] - 3s 8ms/step - loss: 4.9879 - category_accuracy: 1.8750 - binary_accuracy: 0.8149 - val_loss: 5.2345 - val_category_accuracy: 1.9091 - val_binary_accuracy: 0.8017\n",
            "Epoch 53/100\n",
            "326/326 [==============================] - 3s 8ms/step - loss: 4.9721 - category_accuracy: 1.8750 - binary_accuracy: 0.8153 - val_loss: 5.2441 - val_category_accuracy: 1.6364 - val_binary_accuracy: 0.8038\n",
            "Epoch 54/100\n",
            "326/326 [==============================] - 3s 8ms/step - loss: 4.9796 - category_accuracy: 1.3750 - binary_accuracy: 0.8139 - val_loss: 5.2376 - val_category_accuracy: 1.8182 - val_binary_accuracy: 0.8038\n",
            "Epoch 55/100\n",
            "326/326 [==============================] - 3s 8ms/step - loss: 4.9707 - category_accuracy: 1.5000 - binary_accuracy: 0.8169 - val_loss: 5.2380 - val_category_accuracy: 1.9091 - val_binary_accuracy: 0.8047\n",
            "Epoch 56/100\n",
            "326/326 [==============================] - 3s 8ms/step - loss: 4.9718 - category_accuracy: 1.5000 - binary_accuracy: 0.8156 - val_loss: 5.2370 - val_category_accuracy: 1.7273 - val_binary_accuracy: 0.8051\n"
          ]
        }
      ],
      "source": [
        "history=best_model.fit(train_embeddings,train_labels, validation_split=0.2 ,batch_size = 32,epochs=100, callbacks=[callback])"
      ]
    },
    {
      "cell_type": "code",
      "execution_count": 33,
      "metadata": {
        "id": "mdk-izQOBRpX"
      },
      "outputs": [],
      "source": [
        ""
      ]
    },
    {
      "cell_type": "code",
      "execution_count": 34,
      "metadata": {
        "id": "D20INHvh7Xx4"
      },
      "outputs": [],
      "source": [
        "predictions=best_model.predict(test_embeddings)\n"
      ]
    },
    {
      "cell_type": "code",
      "execution_count": 35,
      "metadata": {
        "id": "e21OIJCL9uml"
      },
      "outputs": [],
      "source": [
        "label_list=[\"0-2\",\"10-19\",\"20-29\",\"3-9\",\"30-39\",\"40-49\",\"50-59\",\"60-69\",\n",
        "            \"more than 70\",\"Female\",\"Male\",\"Black\",\"East Asian\",\"Indian\",\n",
        "            \"Latino_hispanic\",\"Middle_easern\", \"Southest Asian\",\"White\",\"False\",\"True\"]"
      ]
    },
    {
      "cell_type": "code",
      "execution_count": 36,
      "metadata": {
        "id": "3N9OHdSn_07l"
      },
      "outputs": [],
      "source": [
        "#unpacking the predictions and rounding the numbers\n",
        "for i in range(5):\n",
        "  age=max(predictions[i][0:9])\n",
        "  age_index=list(predictions[i]).index(age)\n",
        "  predictions[i][age_index]=1\n",
        "  sex=max(predictions[i][9:11])\n",
        "  sex_index=list(predictions[i]).index(sex)\n",
        "  predictions[i][sex_index]=1\n",
        "  ethnicity=max(predictions[i][11:18])\n",
        "  ethnicity_index=list(predictions[i]).index(ethnicity)\n",
        "  predictions[i][ethnicity_index]=1\n",
        "  t_f=max(predictions[i][18:20])\n",
        "  t_f_index=list(predictions[i]).index(t_f)\n",
        "  predictions[i][t_f_index]=1\n",
        "  round_preds=np.round(predictions[i])"
      ]
    },
    {
      "cell_type": "code",
      "execution_count": 37,
      "metadata": {
        "id": "cXZ31RrpB2Iu"
      },
      "outputs": [],
      "source": [
        "age=max(predictions[4][0:9])\n",
        "age_index=list(predictions[4]).index(age)\n",
        "predictions[4][age_index]=1\n",
        "sex=max(predictions[4][9:11])\n",
        "sex_index=list(predictions[4]).index(sex)\n",
        "predictions[4][sex_index]=1\n",
        "ethnicity=max(predictions[4][11:18])\n",
        "ethnicity_index=list(predictions[4]).index(ethnicity)\n",
        "predictions[4][ethnicity_index]=1\n",
        "t_f=max(predictions[4][18:20])\n",
        "t_f_index=list(predictions[4]).index(t_f)\n",
        "predictions[4][t_f_index]=1"
      ]
    },
    {
      "cell_type": "code",
      "execution_count": 38,
      "metadata": {
        "id": "Mzh3Q4CSCOww"
      },
      "outputs": [],
      "source": [
        "\n",
        "ages = [\"0-2\",\"10-19\",\"20-29\",\"3-9\",\"30-39\",\"40-49\",\"50-59\",\"60-69\",\"more than 70\"]\n",
        "sexes = [\"Female\",\"Male\"]\n",
        "races = [\"Black\",\"East Asian\",\"Indian\",\"Latino_hispanic\",\n",
        "         \"Middle_easern\", \"Southest Asian\",\"White\"]\n",
        "\n",
        "rnds = [\"False\",\"True\"]\n",
        "def array_to_labels(arr):\n",
        "  arr = np.atleast_2d(arr)\n",
        "  return [ages[np.argmax(arr[:, 0:9])],sexes[np.argmax(arr[:, 9:11])],races[np.argmax(arr[:, 11:18])], rnds[np.argmax(arr[:, 18:20])]]\n"
      ]
    },
    {
      "cell_type": "code",
      "execution_count": 42,
      "metadata": {
        "id": "tGSaDCjRCrwI"
      },
      "outputs": [],
      "source": [
        "predicted_labels=[array_to_labels(pred) for pred in predictions]\n",
        "true_test_labels = [array_to_labels(lab) for lab in test_labels]\n"
      ]
    },
    {
      "cell_type": "code",
      "execution_count": 49,
      "metadata": {
        "colab": {
          "base_uri": "https://localhost:8080/",
          "height": 314
        },
        "id": "qzthPeglqEic",
        "outputId": "6697fac8-ec70-4f23-d045-7736a2b080c9"
      },
      "outputs": [
        {
          "output_type": "execute_result",
          "data": {
            "text/plain": [
              "Text(0.5, 1.0, \"['50-59', 'Male', 'Middle_easern', 'True']\\n['20-29', 'Female', 'White', 'True']\")"
            ]
          },
          "metadata": {},
          "execution_count": 49
        },
        {
          "output_type": "display_data",
          "data": {
            "image/png": "[encoded data removed]",
            "text/plain": [
              "<Figure size 432x288 with 1 Axes>"
            ]
          },
          "metadata": {
            "needs_background": "light"
          }
        }
      ],
      "source": [
        "#loading and polotting an image that we will provide at the github repo\n",
        "img = plt.imread(\"val/15.jpg\")\n",
        "plt.imshow(img)\n",
        "plt.title(str(true_test_labels[15])+\"\\n\"+str(predicted_labels[15]))"
      ]
    },
    {
      "cell_type": "code",
      "execution_count": 45,
      "metadata": {
        "colab": {
          "base_uri": "https://localhost:8080/",
          "height": 314
        },
        "id": "4UMUT0LYvTLJ",
        "outputId": "492ffc84-e898-4d3e-eb02-cad7fe39672f"
      },
      "outputs": [
        {
          "output_type": "execute_result",
          "data": {
            "text/plain": [
              "Text(0.5, 1.0, \"['40-49', 'Male', 'White', 'False']\\n['20-29', 'Male', 'Indian', 'False']\")"
            ]
          },
          "metadata": {},
          "execution_count": 45
        },
        {
          "output_type": "display_data",
          "data": {
            "image/png": "[encoded data removed]",
            "text/plain": [
              "<Figure size 432x288 with 1 Axes>"
            ]
          },
          "metadata": {
            "needs_background": "light"
          }
        }
      ],
      "source": [
        "\n",
        "img = plt.imread(\"val/18.jpg\")\n",
        "plt.imshow(img)\n",
        "plt.title(str(true_test_labels[18])+\"\\n\"+str(predicted_labels[18]))"
      ]
    },
    {
      "cell_type": "code",
      "execution_count": null,
      "metadata": {
        "id": "eNGdupJEwbTi"
      },
      "outputs": [],
      "source": [
        "predictions"
      ]
    },
    {
      "cell_type": "code",
      "execution_count": null,
      "metadata": {
        "id": "JvWdQPz-kV1P"
      },
      "outputs": [],
      "source": [
        "callback = tf.keras.callbacks.EarlyStopping(monitor='binary_accuracy', patience=3)\n",
        "#creating the neural network\n",
        "def build_model(hp):\n",
        "  inputs = keras.Input(shape=(train_embeddings.shape[1],))\n",
        "  \n",
        "\n",
        "  hp_activation=hp.Choice('activation', values=[\"relu\",\"sigmoid\"])\n",
        "  x = keras.layers.Dense(units=hp.Int('units1', min_value=32, max_value=512, step=16), activation=hp.Choice('activation', values=[\"relu\",\"sigmoid\"]))(inputs)\n",
        "  dp_rate=hp.Choice('rate1', values=[0.0,0.1,0.3,0.5,0.8])\n",
        "  dp_rate2=hp.Choice('rate2', values=[0.1,0.3,0.5,0.8])\n",
        "  for i in range(hp.Int('layers', 2, 6)):\n",
        "    x=(tf.keras.layers.Dense(units=hp.Int('units_' + str(i), 32, 512, step=10),\n",
        "                                    activation=hp.Choice('act_' + str(i), ['relu', 'sigmoid'])))(x)\n",
        "  x=tf.keras.layers.Dropout(rate=dp_rate)(x)\n",
        "  #each category needs to have its own softmax activation layer \n",
        "  xs = [keras.layers.Dense(values.shape[0], activation=\"softmax\")(x) for values in OHEC.categories_]#separate categories\n",
        "  outputs = tf.keras.layers.Concatenate()(xs)\n",
        "\n",
        "  hp_learning_rate = hp.Choice('learning_rate', values=[1e-2, 1e-3, 1e-4])\n",
        "  model = keras.Model(inputs = inputs, outputs = outputs, name=\"OpenFace_extension\")\n",
        "  model.compile(\n",
        "    loss=MulticatLoss(),#every bit needs to converge, maybe weighting is also needed\n",
        "    optimizer=keras.optimizers.Adam(learning_rate=hp_learning_rate),\n",
        "    metrics=[\"binary_accuracy\"])#every bit has to be looked at separately\n",
        "  return model\n"
      ]
    },
    {
      "cell_type": "code",
      "execution_count": null,
      "metadata": {
        "id": "ZZ5AqB0cllDg"
      },
      "outputs": [],
      "source": [
        "tuner = Hyperband(\n",
        "    build_model,\n",
        "    objective='binary_accuracy',\n",
        "    factor=10,\n",
        "    max_epochs=100,\n",
        "    directory='output2',\n",
        "    project_name='big_homework2')"
      ]
    },
    {
      "cell_type": "code",
      "execution_count": null,
      "metadata": {
        "id": "uYBSSrhzlpLG"
      },
      "outputs": [],
      "source": [
        "tuner.search_space_summary()"
      ]
    },
    {
      "cell_type": "code",
      "execution_count": null,
      "metadata": {
        "id": "vRTSr_UMluxL"
      },
      "outputs": [],
      "source": [
        "tuner.search(train_embeddings,train_labels, validation_split=0.2 ,batch_size = 32,epochs=100, callbacks=[callback])"
      ]
    },
    {
      "cell_type": "code",
      "execution_count": null,
      "metadata": {
        "id": "kX9llmGGmT28"
      },
      "outputs": [],
      "source": [
        "best_model = tuner.get_best_models(num_models=1)[0]\n",
        "best_model.summary()\n",
        "plot_model(best_model, show_shapes=True, show_layer_names=True)"
      ]
    },
    {
      "cell_type": "code",
      "execution_count": null,
      "metadata": {
        "id": "38smHY0iEebv"
      },
      "outputs": [],
      "source": [
        "history=best_model.fit(train_embeddings,train_labels, validation_split=0.2 ,batch_size = 32,epochs=100, callbacks=[callback])"
      ]
    },
    {
      "cell_type": "code",
      "execution_count": null,
      "metadata": {
        "id": "8ytMz6YjO7r7"
      },
      "outputs": [],
      "source": [
        ""
      ]
    },
    {
      "cell_type": "code",
      "execution_count": null,
      "metadata": {
        "id": "QJLp4-cxEjp4"
      },
      "outputs": [],
      "source": [
        "age=max(predictions[6][0:9])\n",
        "age_index=list(predictions[6]).index(age)\n",
        "predictions[6][age_index]=1\n",
        "sex=max(predictions[6][9:11])\n",
        "sex_index=list(predictions[6]).index(sex)\n",
        "predictions[6][sex_index]=1\n",
        "ethnicity=max(predictions[6][11:18])\n",
        "ethnicity_index=list(predictions[6]).index(ethnicity)\n",
        "predictions[6][ethnicity_index]=1\n",
        "t_f=max(predictions[6][18:20])\n",
        "t_f_index=list(predictions[6]).index(t_f)\n",
        "predictions[6][t_f_index]=1"
      ]
    },
    {
      "cell_type": "code",
      "execution_count": null,
      "metadata": {
        "id": "4qaqk5aZPBGc"
      },
      "outputs": [],
      "source": [
        "round_preds=np.round(predictions[4])\n",
        "x=[i for i, x in enumerate(round_preds) if x == 1]\n",
        "predicted=[]\n",
        "for i in range(4):\n",
        "  predicted.append(label_list[x[i]])"
      ]
    },
    {
      "cell_type": "code",
      "execution_count": null,
      "metadata": {
        "id": "7oUMqw7YPJ2c"
      },
      "outputs": [],
      "source": [
        "img = plt.imread(\"7.jpg\")\n",
        "plt.imshow(img)\n",
        "plt.title(predicted)"
      ]
    },
    {
      "cell_type": "code",
      "execution_count": null,
      "metadata": {
        "id": "TOoDqLQjPKjw"
      },
      "outputs": [],
      "source": [
        "predicted"
      ]
    },
    {
      "cell_type": "code",
      "execution_count": null,
      "metadata": {
        "id": "vrB86tFRPb2Y"
      },
      "outputs": [],
      "source": [
        ""
      ]
    }
  ],
  "metadata": {
    "colab": {
      "collapsed_sections": [],
      "name": "DL_Get_trained.ipynb",
      "provenance": []
    },
    "kernelspec": {
      "display_name": "Python 3",
      "name": "python3"
    },
    "language_info": {
      "name": "python"
    }
  },
  "nbformat": 4,
  "nbformat_minor": 0
}